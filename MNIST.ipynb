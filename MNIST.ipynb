{
 "cells": [
  {
   "cell_type": "code",
   "execution_count": 2,
   "metadata": {},
   "outputs": [],
   "source": [
    "import tensorflow as tf\n",
    "from tensorflow.keras.datasets import fashion_mnist"
   ]
  },
  {
   "cell_type": "code",
   "execution_count": 3,
   "metadata": {},
   "outputs": [],
   "source": [
    "#the data is already sorted into training and test data\n",
    "(train_data, train_labels), (test_data, test_labels) = fashion_mnist.load_data()"
   ]
  },
  {
   "cell_type": "code",
   "execution_count": 5,
   "metadata": {},
   "outputs": [
    {
     "data": {
      "text/plain": [
       "(10000, 28, 28)"
      ]
     },
     "execution_count": 5,
     "metadata": {},
     "output_type": "execute_result"
    }
   ],
   "source": [
    "test_data.shape"
   ]
  },
  {
   "cell_type": "code",
   "execution_count": 6,
   "metadata": {},
   "outputs": [
    {
     "data": {
      "text/plain": [
       "((60000, 28, 28), (60000,), (10000, 28, 28), (10000,))"
      ]
     },
     "execution_count": 6,
     "metadata": {},
     "output_type": "execute_result"
    }
   ],
   "source": [
    "#check the shape of the data\n",
    "train_data.shape, train_labels.shape, test_data.shape, test_labels.shape"
   ]
  },
  {
   "cell_type": "code",
   "execution_count": 8,
   "metadata": {},
   "outputs": [
    {
     "data": {
      "text/plain": [
       "<matplotlib.image.AxesImage at 0x1e92097ca00>"
      ]
     },
     "execution_count": 8,
     "metadata": {},
     "output_type": "execute_result"
    },
    {
     "data": {
      "image/png": "[encoded data removed]",
      "text/plain": [
       "<Figure size 432x288 with 1 Axes>"
      ]
     },
     "metadata": {
      "needs_background": "light"
     },
     "output_type": "display_data"
    }
   ],
   "source": [
    "#plot sample of the data\n",
    "import matplotlib.pyplot as plt\n",
    "plt.imshow(train_data[2])\n"
   ]
  },
  {
   "cell_type": "code",
   "execution_count": 9,
   "metadata": {},
   "outputs": [
    {
     "data": {
      "text/plain": [
       "0"
      ]
     },
     "execution_count": 9,
     "metadata": {},
     "output_type": "execute_result"
    }
   ],
   "source": [
    "# check the sample label\n",
    "train_labels[2]"
   ]
  },
  {
   "cell_type": "code",
   "execution_count": 10,
   "metadata": {},
   "outputs": [
    {
     "data": {
      "text/plain": [
       "10"
      ]
     },
     "execution_count": 10,
     "metadata": {},
     "output_type": "execute_result"
    }
   ],
   "source": [
    "#creating a list of classes\n",
    "class_names = ['T-shirt/top', 'Trouser', 'Pullover', 'Dress', 'Coat',\n",
    "                'Sandal', 'Shirt', 'Sneaker', 'Bag', 'Ankle boot']\n",
    "\n",
    "#check how many class are there \n",
    "len(class_names)"
   ]
  },
  {
   "cell_type": "code",
   "execution_count": 11,
   "metadata": {},
   "outputs": [
    {
     "data": {
      "text/plain": [
       "'T-shirt/top'"
      ]
     },
     "execution_count": 11,
     "metadata": {},
     "output_type": "execute_result"
    }
   ],
   "source": [
    "class_names[train_labels[2]]"
   ]
  },
  {
   "cell_type": "code",
   "execution_count": 15,
   "metadata": {},
   "outputs": [
    {
     "data": {
      "text/plain": [
       "Text(0.5, 1.0, 'T-shirt/top')"
      ]
     },
     "execution_count": 15,
     "metadata": {},
     "output_type": "execute_result"
    },
    {
     "data": {
      "image/png": "[encoded data removed]",
      "text/plain": [
       "<Figure size 432x288 with 1 Axes>"
      ]
     },
     "metadata": {
      "needs_background": "light"
     },
     "output_type": "display_data"
    }
   ],
   "source": [
    "#plot an image and the label\n",
    "plt.imshow(train_data[17], cmap=plt.cm.binary)\n",
    "plt.title(class_names[train_labels[17]])"
   ]
  },
  {
   "cell_type": "code",
   "execution_count": 19,
   "metadata": {},
   "outputs": [
    {
     "data": {
      "image/png": "[encoded data removed]",
      "text/plain": [
       "<Figure size 720x720 with 6 Axes>"
      ]
     },
     "metadata": {
      "needs_background": "light"
     },
     "output_type": "display_data"
    }
   ],
   "source": [
    "# plot random images of the sample and the titles\n",
    "import random\n",
    "plt.figure(figsize=(10,10))\n",
    "for i in range(6):\n",
    "    ax = plt.subplot(3,3,i + 1)\n",
    "    rand_index = random.choice(range(len(train_data)))\n",
    "    plt.imshow(train_data[rand_index], cmap=plt.cm.binary)\n",
    "    plt.title(class_names[train_labels[rand_index]])\n",
    "    plt.axis('off')"
   ]
  },
  {
   "cell_type": "code",
   "execution_count": 30,
   "metadata": {},
   "outputs": [
    {
     "name": "stdout",
     "output_type": "stream",
     "text": [
      "Epoch 1/10\n",
      "1875/1875 [==============================] - 4s 2ms/step - loss: 2.1629 - accuracy: 0.1628 - val_loss: 1.8070 - val_accuracy: 0.2133\n",
      "Epoch 2/10\n",
      "1875/1875 [==============================] - 4s 2ms/step - loss: 1.7039 - accuracy: 0.2534 - val_loss: 1.6755 - val_accuracy: 0.2821\n",
      "Epoch 3/10\n",
      "1875/1875 [==============================] - 3s 2ms/step - loss: 1.6331 - accuracy: 0.2817 - val_loss: 1.6065 - val_accuracy: 0.3005\n",
      "Epoch 4/10\n",
      "1875/1875 [==============================] - 3s 2ms/step - loss: 1.6032 - accuracy: 0.2863 - val_loss: 1.6056 - val_accuracy: 0.2981\n",
      "Epoch 5/10\n",
      "1875/1875 [==============================] - 3s 2ms/step - loss: 1.5975 - accuracy: 0.2932 - val_loss: 1.6016 - val_accuracy: 0.2884\n",
      "Epoch 6/10\n",
      "1875/1875 [==============================] - 3s 2ms/step - loss: 1.5913 - accuracy: 0.2967 - val_loss: 1.5698 - val_accuracy: 0.3157\n",
      "Epoch 7/10\n",
      "1875/1875 [==============================] - 4s 2ms/step - loss: 1.5738 - accuracy: 0.3153 - val_loss: 1.5715 - val_accuracy: 0.3091\n",
      "Epoch 8/10\n",
      "1875/1875 [==============================] - 3s 2ms/step - loss: 1.5696 - accuracy: 0.3170 - val_loss: 1.5614 - val_accuracy: 0.3256\n",
      "Epoch 9/10\n",
      "1875/1875 [==============================] - 3s 2ms/step - loss: 1.5665 - accuracy: 0.3205 - val_loss: 1.5607 - val_accuracy: 0.3385\n",
      "Epoch 10/10\n",
      "1875/1875 [==============================] - 3s 2ms/step - loss: 1.5560 - accuracy: 0.3280 - val_loss: 1.5665 - val_accuracy: 0.3267\n"
     ]
    }
   ],
   "source": [
    "# set the random see\n",
    "tf.random.set_seed(42)\n",
    "\n",
    "# Create the model\n",
    "model = tf.keras.Sequential([\n",
    "    tf.keras.layers.Flatten(input_shape=(28, 28)),\n",
    "    tf.keras.layers.Dense(4, activation= \"relu\"),\n",
    "    tf.keras.layers.Dense(4, activation= \"relu\"),\n",
    "    tf.keras.layers.Dense(10, activation=\"softmax\") ])\n",
    "\n",
    "#complie the mode\n",
    "model.compile(loss=tf.keras.losses.SparseCategoricalCrossentropy(), optimizer=tf.keras.optimizers.Adam(), metrics=\"accuracy\")\n",
    "\n",
    "#fit the model\n",
    "non_normalized_history  = model.fit(train_data, train_labels, epochs=10, validation_data=(test_data, test_labels))"
   ]
  },
  {
   "cell_type": "markdown",
   "metadata": {},
   "source": [
    "### the accuracy is bad thus we need to check and correct our training inorder to better our accuracy"
   ]
  },
  {
   "cell_type": "code",
   "execution_count": 23,
   "metadata": {},
   "outputs": [
    {
     "data": {
      "text/plain": [
       "(0, 255)"
      ]
     },
     "execution_count": 23,
     "metadata": {},
     "output_type": "execute_result"
    }
   ],
   "source": [
    "# check the min and max value of the training data\n",
    "train_data.min(), train_data.max()"
   ]
  },
  {
   "cell_type": "markdown",
   "metadata": {},
   "source": [
    "### we need to get the values between 0 and 1. we do this by dividing with the max value. which in this case is 255.0"
   ]
  },
  {
   "cell_type": "code",
   "execution_count": 24,
   "metadata": {},
   "outputs": [],
   "source": [
    "# divide the train and the test images by max value which 255.0\n",
    "train_data_normalized = train_data / 255.0\n",
    "test_data_normalized = test_data / 255.0"
   ]
  },
  {
   "cell_type": "code",
   "execution_count": 25,
   "metadata": {},
   "outputs": [
    {
     "data": {
      "text/plain": [
       "(0.0, 1.0)"
      ]
     },
     "execution_count": 25,
     "metadata": {},
     "output_type": "execute_result"
    }
   ],
   "source": [
    "#check the new min and max value of the normalized data\n",
    "train_data_normalized.min(), train_data_normalized.max()"
   ]
  },
  {
   "cell_type": "markdown",
   "metadata": {},
   "source": [
    "### we train a new model on the normlized data to see if it will perform better"
   ]
  },
  {
   "cell_type": "code",
   "execution_count": 76,
   "metadata": {},
   "outputs": [
    {
     "name": "stdout",
     "output_type": "stream",
     "text": [
      "Epoch 1/20\n",
      "1875/1875 [==============================] - 4s 2ms/step - loss: 0.9882 - accuracy: 0.6417 - val_loss: 0.6626 - val_accuracy: 0.7882\n",
      "Epoch 2/20\n",
      "1875/1875 [==============================] - 4s 2ms/step - loss: 0.5850 - accuracy: 0.8025 - val_loss: 0.5946 - val_accuracy: 0.8031\n",
      "Epoch 3/20\n",
      "1875/1875 [==============================] - 4s 2ms/step - loss: 0.5309 - accuracy: 0.8174 - val_loss: 0.5669 - val_accuracy: 0.8041\n",
      "Epoch 4/20\n",
      "1875/1875 [==============================] - 4s 2ms/step - loss: 0.5086 - accuracy: 0.8232 - val_loss: 0.5322 - val_accuracy: 0.8151\n",
      "Epoch 5/20\n",
      "1875/1875 [==============================] - 4s 2ms/step - loss: 0.4950 - accuracy: 0.8270 - val_loss: 0.5401 - val_accuracy: 0.8099\n",
      "Epoch 6/20\n",
      "1875/1875 [==============================] - 4s 2ms/step - loss: 0.4850 - accuracy: 0.8291 - val_loss: 0.5420 - val_accuracy: 0.8085\n",
      "Epoch 7/20\n",
      "1875/1875 [==============================] - 4s 2ms/step - loss: 0.4785 - accuracy: 0.8321 - val_loss: 0.5405 - val_accuracy: 0.8040\n",
      "Epoch 8/20\n",
      "1875/1875 [==============================] - 4s 2ms/step - loss: 0.4710 - accuracy: 0.8348 - val_loss: 0.5005 - val_accuracy: 0.8254\n",
      "Epoch 9/20\n",
      "1875/1875 [==============================] - 4s 2ms/step - loss: 0.4651 - accuracy: 0.8373 - val_loss: 0.5051 - val_accuracy: 0.8236\n",
      "Epoch 10/20\n",
      "1875/1875 [==============================] - 4s 2ms/step - loss: 0.4611 - accuracy: 0.8376 - val_loss: 0.4990 - val_accuracy: 0.8229\n",
      "Epoch 11/20\n",
      "1875/1875 [==============================] - 4s 2ms/step - loss: 0.4569 - accuracy: 0.8384 - val_loss: 0.4977 - val_accuracy: 0.8268\n",
      "Epoch 12/20\n",
      "1875/1875 [==============================] - 4s 2ms/step - loss: 0.4537 - accuracy: 0.8402 - val_loss: 0.4968 - val_accuracy: 0.8237\n",
      "Epoch 13/20\n",
      "1875/1875 [==============================] - 4s 2ms/step - loss: 0.4519 - accuracy: 0.8410 - val_loss: 0.4917 - val_accuracy: 0.8259\n",
      "Epoch 14/20\n",
      "1875/1875 [==============================] - 4s 2ms/step - loss: 0.4486 - accuracy: 0.8418 - val_loss: 0.4968 - val_accuracy: 0.8253\n",
      "Epoch 15/20\n",
      "1875/1875 [==============================] - 4s 2ms/step - loss: 0.4466 - accuracy: 0.8418 - val_loss: 0.5134 - val_accuracy: 0.8201\n",
      "Epoch 16/20\n",
      "1875/1875 [==============================] - 4s 2ms/step - loss: 0.4451 - accuracy: 0.8428 - val_loss: 0.5007 - val_accuracy: 0.8265\n",
      "Epoch 17/20\n",
      "1875/1875 [==============================] - 4s 2ms/step - loss: 0.4422 - accuracy: 0.8444 - val_loss: 0.4867 - val_accuracy: 0.8303\n",
      "Epoch 18/20\n",
      "1875/1875 [==============================] - 4s 2ms/step - loss: 0.4419 - accuracy: 0.8430 - val_loss: 0.4833 - val_accuracy: 0.8290\n",
      "Epoch 19/20\n",
      "1875/1875 [==============================] - 4s 2ms/step - loss: 0.4408 - accuracy: 0.8437 - val_loss: 0.5015 - val_accuracy: 0.8250\n",
      "Epoch 20/20\n",
      "1875/1875 [==============================] - 4s 2ms/step - loss: 0.4385 - accuracy: 0.8446 - val_loss: 0.4926 - val_accuracy: 0.8302\n"
     ]
    }
   ],
   "source": [
    "# set the random seed\n",
    "tf.random.set_seed(42)\n",
    "\n",
    "#Create the model\n",
    "model_normalized = tf.keras.Sequential([\n",
    "    tf.keras.layers.Flatten(input_shape=(28, 28)),\n",
    "    tf.keras.layers.Dense(5, activation= \"relu\"),\n",
    "    tf.keras.layers.Dense(5, activation= \"relu\"),\n",
    "    tf.keras.layers.Dense(10, activation=\"softmax\")  \n",
    "])\n",
    "\n",
    "#compile the model\n",
    "model_normalized.compile(loss= tf.keras.losses.SparseCategoricalCrossentropy(), optimizer = tf.keras.optimizers.Adam(), metrics=\"accuracy\")\n",
    "\n",
    "#fit the model\n",
    "norm_history = model_normalized.fit(train_data_normalized, train_labels, epochs=20, validation_data=(test_data_normalized, test_labels))"
   ]
  },
  {
   "cell_type": "code",
   "execution_count": 77,
   "metadata": {},
   "outputs": [
    {
     "data": {
      "text/plain": [
       "Text(0.5, 1.0, 'Normalized data')"
      ]
     },
     "execution_count": 77,
     "metadata": {},
     "output_type": "execute_result"
    },
    {
     "data": {
      "image/png": "[encoded data removed]",
      "text/plain": [
       "<Figure size 576x360 with 1 Axes>"
      ]
     },
     "metadata": {
      "needs_background": "light"
     },
     "output_type": "display_data"
    },
    {
     "data": {
      "image/png": "[encoded data removed]",
      "text/plain": [
       "<Figure size 576x360 with 1 Axes>"
      ]
     },
     "metadata": {
      "needs_background": "light"
     },
     "output_type": "display_data"
    }
   ],
   "source": [
    "import pandas as pd\n",
    "# Plot the non-normalized data loss curves\n",
    "pd.DataFrame(non_normalized_history.history).plot(figsize=(8,5))\n",
    "plt.title(\"Non normalized data\")\n",
    "\n",
    "# plot normlized data\n",
    "pd.DataFrame(norm_history.history).plot(figsize=(8,5))\n",
    "plt.title(\"Normalized data\")\n"
   ]
  },
  {
   "cell_type": "code",
   "execution_count": 78,
   "metadata": {},
   "outputs": [
    {
     "name": "stdout",
     "output_type": "stream",
     "text": [
      "Model: \"sequential_12\"\n",
      "_________________________________________________________________\n",
      " Layer (type)                Output Shape              Param #   \n",
      "=================================================================\n",
      " flatten_12 (Flatten)        (None, 784)               0         \n",
      "                                                                 \n",
      " dense_44 (Dense)            (None, 5)                 3925      \n",
      "                                                                 \n",
      " dense_45 (Dense)            (None, 5)                 30        \n",
      "                                                                 \n",
      " dense_46 (Dense)            (None, 10)                60        \n",
      "                                                                 \n",
      "=================================================================\n",
      "Total params: 4,015\n",
      "Trainable params: 4,015\n",
      "Non-trainable params: 0\n",
      "_________________________________________________________________\n"
     ]
    }
   ],
   "source": [
    "# check the summary of the model\n",
    "model_normalized.summary()"
   ]
  },
  {
   "cell_type": "code",
   "execution_count": 79,
   "metadata": {},
   "outputs": [
    {
     "name": "stdout",
     "output_type": "stream",
     "text": [
      "313/313 [==============================] - 0s 1ms/step\n"
     ]
    },
    {
     "data": {
      "text/plain": [
       "array([1.7318284e-08, 1.8353245e-17, 7.0590661e-10, 7.7898239e-09,\n",
       "       8.6841578e-10, 6.7974821e-02, 5.1382450e-08, 6.7318790e-02,\n",
       "       5.3309795e-04, 8.6417323e-01], dtype=float32)"
      ]
     },
     "execution_count": 79,
     "metadata": {},
     "output_type": "execute_result"
    }
   ],
   "source": [
    "#Mack a prediction on the normalized data\n",
    "predictions = model_normalized.predict(test_data_normalized)\n",
    "predictions[0]"
   ]
  },
  {
   "cell_type": "code",
   "execution_count": 80,
   "metadata": {},
   "outputs": [
    {
     "data": {
      "text/plain": [
       "(<matplotlib.image.AxesImage at 0x1e92de13550>, Text(0.5, 1.0, 'Pullover'))"
      ]
     },
     "execution_count": 80,
     "metadata": {},
     "output_type": "execute_result"
    },
    {
     "data": {
      "image/png": "[encoded data removed]",
      "text/plain": [
       "<Figure size 432x288 with 1 Axes>"
      ]
     },
     "metadata": {
      "needs_background": "light"
     },
     "output_type": "display_data"
    }
   ],
   "source": [
    "# see the prediction of the first image\n",
    "predictions[17].argmax(), class_names[predictions[17].argmax()],\n",
    "plt.imshow(test_data_normalized[predictions[17].argmax()], cmap=plt.cm.binary), plt.title(class_names[predictions[17].argmax()])"
   ]
  },
  {
   "cell_type": "code",
   "execution_count": 81,
   "metadata": {},
   "outputs": [
    {
     "data": {
      "text/plain": [
       "(<matplotlib.image.AxesImage at 0x1e92de5f070>, Text(0.5, 1.0, 'Ankle boot'))"
      ]
     },
     "execution_count": 81,
     "metadata": {},
     "output_type": "execute_result"
    },
    {
     "data": {
      "image/png": "[encoded data removed]",
      "text/plain": [
       "<Figure size 432x288 with 1 Axes>"
      ]
     },
     "metadata": {
      "needs_background": "light"
     },
     "output_type": "display_data"
    }
   ],
   "source": [
    "#check what image is on the first position\n",
    "plt.imshow(test_data_normalized[0]), plt.title(class_names[test_labels[0]])"
   ]
  },
  {
   "cell_type": "code",
   "execution_count": 82,
   "metadata": {},
   "outputs": [
    {
     "data": {
      "text/plain": [
       "array([[769,   6,  18,  84,   4,   2, 101,   0,  16,   0],\n",
       "       [  2, 948,  10,  31,   6,   0,   1,   0,   2,   0],\n",
       "       [ 18,   4, 693,  10, 185,   0,  83,   0,   7,   0],\n",
       "       [ 38,  11,  11, 832,  57,   0,  42,   0,   9,   0],\n",
       "       [  0,   1, 102,  16, 807,   1,  66,   0,   7,   0],\n",
       "       [  0,   0,   0,   1,   0, 898,   0,  57,   6,  38],\n",
       "       [147,   2, 107,  47, 134,   1, 526,   0,  36,   0],\n",
       "       [  0,   0,   0,   0,   0,  23,   0, 943,   0,  34],\n",
       "       [  2,   0,   9,   9,   6,   6,  10,   4, 952,   2],\n",
       "       [  0,   0,   0,   0,   0,  18,   0,  46,   2, 934]], dtype=int64)"
      ]
     },
     "execution_count": 82,
     "metadata": {},
     "output_type": "execute_result"
    }
   ],
   "source": [
    "# create a confusion matrix using sklearn\n",
    "from sklearn.metrics import confusion_matrix\n",
    "confusion_matrix(test_labels, predictions.argmax(axis=1))"
   ]
  },
  {
   "cell_type": "code",
   "execution_count": 83,
   "metadata": {},
   "outputs": [],
   "source": [
    "# method to plot the confusion matrix\n",
    "def make_confusion_matrix(model, data, labels):\n",
    "    predictions = model.predict(data)\n",
    "    return confusion_matrix(labels, predictions.argmax(axis=1))"
   ]
  },
  {
   "cell_type": "code",
   "execution_count": 84,
   "metadata": {},
   "outputs": [
    {
     "name": "stdout",
     "output_type": "stream",
     "text": [
      "313/313 [==============================] - 1s 2ms/step\n"
     ]
    },
    {
     "data": {
      "text/plain": [
       "array([[769,   6,  18,  84,   4,   2, 101,   0,  16,   0],\n",
       "       [  2, 948,  10,  31,   6,   0,   1,   0,   2,   0],\n",
       "       [ 18,   4, 693,  10, 185,   0,  83,   0,   7,   0],\n",
       "       [ 38,  11,  11, 832,  57,   0,  42,   0,   9,   0],\n",
       "       [  0,   1, 102,  16, 807,   1,  66,   0,   7,   0],\n",
       "       [  0,   0,   0,   1,   0, 898,   0,  57,   6,  38],\n",
       "       [147,   2, 107,  47, 134,   1, 526,   0,  36,   0],\n",
       "       [  0,   0,   0,   0,   0,  23,   0, 943,   0,  34],\n",
       "       [  2,   0,   9,   9,   6,   6,  10,   4, 952,   2],\n",
       "       [  0,   0,   0,   0,   0,  18,   0,  46,   2, 934]], dtype=int64)"
      ]
     },
     "execution_count": 84,
     "metadata": {},
     "output_type": "execute_result"
    }
   ],
   "source": [
    "# implement the confusion matrix method\n",
    "model_normalized_confusion_matrix_array =  make_confusion_matrix(model_normalized, test_data_normalized, test_labels)\n",
    "model_normalized_confusion_matrix_array"
   ]
  },
  {
   "cell_type": "markdown",
   "metadata": {},
   "source": [
    "## Confusion matrix heatmap"
   ]
  },
  {
   "cell_type": "code",
   "execution_count": 85,
   "metadata": {},
   "outputs": [
    {
     "data": {
      "text/html": [
       "<div>\n",
       "<style scoped>\n",
       "    .dataframe tbody tr th:only-of-type {\n",
       "        vertical-align: middle;\n",
       "    }\n",
       "\n",
       "    .dataframe tbody tr th {\n",
       "        vertical-align: top;\n",
       "    }\n",
       "\n",
       "    .dataframe thead th {\n",
       "        text-align: right;\n",
       "    }\n",
       "</style>\n",
       "<table border=\"1\" class=\"dataframe\">\n",
       "  <thead>\n",
       "    <tr style=\"text-align: right;\">\n",
       "      <th></th>\n",
       "      <th>T-shirt/top</th>\n",
       "      <th>Trouser</th>\n",
       "      <th>Pullover</th>\n",
       "      <th>Dress</th>\n",
       "      <th>Coat</th>\n",
       "      <th>Sandal</th>\n",
       "      <th>Shirt</th>\n",
       "      <th>Sneaker</th>\n",
       "      <th>Bag</th>\n",
       "      <th>Ankle boot</th>\n",
       "    </tr>\n",
       "  </thead>\n",
       "  <tbody>\n",
       "    <tr>\n",
       "      <th>T-shirt/top</th>\n",
       "      <td>769</td>\n",
       "      <td>6</td>\n",
       "      <td>18</td>\n",
       "      <td>84</td>\n",
       "      <td>4</td>\n",
       "      <td>2</td>\n",
       "      <td>101</td>\n",
       "      <td>0</td>\n",
       "      <td>16</td>\n",
       "      <td>0</td>\n",
       "    </tr>\n",
       "    <tr>\n",
       "      <th>Trouser</th>\n",
       "      <td>2</td>\n",
       "      <td>948</td>\n",
       "      <td>10</td>\n",
       "      <td>31</td>\n",
       "      <td>6</td>\n",
       "      <td>0</td>\n",
       "      <td>1</td>\n",
       "      <td>0</td>\n",
       "      <td>2</td>\n",
       "      <td>0</td>\n",
       "    </tr>\n",
       "    <tr>\n",
       "      <th>Pullover</th>\n",
       "      <td>18</td>\n",
       "      <td>4</td>\n",
       "      <td>693</td>\n",
       "      <td>10</td>\n",
       "      <td>185</td>\n",
       "      <td>0</td>\n",
       "      <td>83</td>\n",
       "      <td>0</td>\n",
       "      <td>7</td>\n",
       "      <td>0</td>\n",
       "    </tr>\n",
       "    <tr>\n",
       "      <th>Dress</th>\n",
       "      <td>38</td>\n",
       "      <td>11</td>\n",
       "      <td>11</td>\n",
       "      <td>832</td>\n",
       "      <td>57</td>\n",
       "      <td>0</td>\n",
       "      <td>42</td>\n",
       "      <td>0</td>\n",
       "      <td>9</td>\n",
       "      <td>0</td>\n",
       "    </tr>\n",
       "    <tr>\n",
       "      <th>Coat</th>\n",
       "      <td>0</td>\n",
       "      <td>1</td>\n",
       "      <td>102</td>\n",
       "      <td>16</td>\n",
       "      <td>807</td>\n",
       "      <td>1</td>\n",
       "      <td>66</td>\n",
       "      <td>0</td>\n",
       "      <td>7</td>\n",
       "      <td>0</td>\n",
       "    </tr>\n",
       "    <tr>\n",
       "      <th>Sandal</th>\n",
       "      <td>0</td>\n",
       "      <td>0</td>\n",
       "      <td>0</td>\n",
       "      <td>1</td>\n",
       "      <td>0</td>\n",
       "      <td>898</td>\n",
       "      <td>0</td>\n",
       "      <td>57</td>\n",
       "      <td>6</td>\n",
       "      <td>38</td>\n",
       "    </tr>\n",
       "    <tr>\n",
       "      <th>Shirt</th>\n",
       "      <td>147</td>\n",
       "      <td>2</td>\n",
       "      <td>107</td>\n",
       "      <td>47</td>\n",
       "      <td>134</td>\n",
       "      <td>1</td>\n",
       "      <td>526</td>\n",
       "      <td>0</td>\n",
       "      <td>36</td>\n",
       "      <td>0</td>\n",
       "    </tr>\n",
       "    <tr>\n",
       "      <th>Sneaker</th>\n",
       "      <td>0</td>\n",
       "      <td>0</td>\n",
       "      <td>0</td>\n",
       "      <td>0</td>\n",
       "      <td>0</td>\n",
       "      <td>23</td>\n",
       "      <td>0</td>\n",
       "      <td>943</td>\n",
       "      <td>0</td>\n",
       "      <td>34</td>\n",
       "    </tr>\n",
       "    <tr>\n",
       "      <th>Bag</th>\n",
       "      <td>2</td>\n",
       "      <td>0</td>\n",
       "      <td>9</td>\n",
       "      <td>9</td>\n",
       "      <td>6</td>\n",
       "      <td>6</td>\n",
       "      <td>10</td>\n",
       "      <td>4</td>\n",
       "      <td>952</td>\n",
       "      <td>2</td>\n",
       "    </tr>\n",
       "    <tr>\n",
       "      <th>Ankle boot</th>\n",
       "      <td>0</td>\n",
       "      <td>0</td>\n",
       "      <td>0</td>\n",
       "      <td>0</td>\n",
       "      <td>0</td>\n",
       "      <td>18</td>\n",
       "      <td>0</td>\n",
       "      <td>46</td>\n",
       "      <td>2</td>\n",
       "      <td>934</td>\n",
       "    </tr>\n",
       "  </tbody>\n",
       "</table>\n",
       "</div>"
      ],
      "text/plain": [
       "             T-shirt/top  Trouser  Pullover  Dress  Coat  Sandal  Shirt  \\\n",
       "T-shirt/top          769        6        18     84     4       2    101   \n",
       "Trouser                2      948        10     31     6       0      1   \n",
       "Pullover              18        4       693     10   185       0     83   \n",
       "Dress                 38       11        11    832    57       0     42   \n",
       "Coat                   0        1       102     16   807       1     66   \n",
       "Sandal                 0        0         0      1     0     898      0   \n",
       "Shirt                147        2       107     47   134       1    526   \n",
       "Sneaker                0        0         0      0     0      23      0   \n",
       "Bag                    2        0         9      9     6       6     10   \n",
       "Ankle boot             0        0         0      0     0      18      0   \n",
       "\n",
       "             Sneaker  Bag  Ankle boot  \n",
       "T-shirt/top        0   16           0  \n",
       "Trouser            0    2           0  \n",
       "Pullover           0    7           0  \n",
       "Dress              0    9           0  \n",
       "Coat               0    7           0  \n",
       "Sandal            57    6          38  \n",
       "Shirt              0   36           0  \n",
       "Sneaker          943    0          34  \n",
       "Bag                4  952           2  \n",
       "Ankle boot        46    2         934  "
      ]
     },
     "execution_count": 85,
     "metadata": {},
     "output_type": "execute_result"
    }
   ],
   "source": [
    "import seaborn as sns\n",
    "confusion_matrix_dataframe = pd.DataFrame(model_normalized_confusion_matrix_array, index=class_names, columns=class_names)\n",
    "confusion_matrix_dataframe"
   ]
  },
  {
   "cell_type": "code",
   "execution_count": 86,
   "metadata": {},
   "outputs": [
    {
     "data": {
      "image/png": "[encoded data removed]",
      "text/plain": [
       "<Figure size 432x288 with 2 Axes>"
      ]
     },
     "metadata": {
      "needs_background": "light"
     },
     "output_type": "display_data"
    }
   ],
   "source": [
    "sns.heatmap(confusion_matrix_dataframe, annot=True, fmt=\"d\")\n",
    "plt.Figure(figsize=(20,20))\n",
    "plt.title(\"Confusion Matrix\")\n",
    "plt.show()"
   ]
  },
  {
   "cell_type": "code",
   "execution_count": 94,
   "metadata": {},
   "outputs": [
    {
     "name": "stdout",
     "output_type": "stream",
     "text": [
      "INFO:tensorflow:Assets written to: saved_trained_model\\assets\n"
     ]
    }
   ],
   "source": [
    "# Save a model\n",
    "model_normalized.save(\"saved_trained_model\")"
   ]
  },
  {
   "cell_type": "code",
   "execution_count": 95,
   "metadata": {},
   "outputs": [
    {
     "name": "stdout",
     "output_type": "stream",
     "text": [
      "313/313 [==============================] - 1s 1ms/step - loss: 0.4926 - accuracy: 0.8302\n"
     ]
    },
    {
     "data": {
      "text/plain": [
       "[0.49260953068733215, 0.8302000164985657]"
      ]
     },
     "execution_count": 95,
     "metadata": {},
     "output_type": "execute_result"
    }
   ],
   "source": [
    "#load the model and evaluate it\n",
    "loaded_model = tf.keras.models.load_model(\"saved_trained_model\")\n",
    "loaded_model.evaluate(test_data_normalized, test_labels)"
   ]
  },
  {
   "cell_type": "code",
   "execution_count": 96,
   "metadata": {},
   "outputs": [
    {
     "name": "stdout",
     "output_type": "stream",
     "text": [
      "313/313 [==============================] - 0s 1ms/step - loss: 0.4926 - accuracy: 0.8302\n"
     ]
    },
    {
     "data": {
      "text/plain": [
       "[0.49260953068733215, 0.8302000164985657]"
      ]
     },
     "execution_count": 96,
     "metadata": {},
     "output_type": "execute_result"
    }
   ],
   "source": [
    "# evaluate the un saved model\n",
    "model_normalized.evaluate(test_data_normalized, test_labels)"
   ]
  },
  {
   "cell_type": "code",
   "execution_count": 97,
   "metadata": {},
   "outputs": [
    {
     "name": "stdout",
     "output_type": "stream",
     "text": [
      "313/313 [==============================] - 1s 2ms/step\n"
     ]
    },
    {
     "data": {
      "text/plain": [
       "array([1.7318284e-08, 1.8353245e-17, 7.0590661e-10, 7.7898239e-09,\n",
       "       8.6841578e-10, 6.7974821e-02, 5.1382450e-08, 6.7318790e-02,\n",
       "       5.3309795e-04, 8.6417323e-01], dtype=float32)"
      ]
     },
     "execution_count": 97,
     "metadata": {},
     "output_type": "execute_result"
    }
   ],
   "source": [
    "#Mack a prediction on the normalized data\n",
    "predictions_loaded_model = loaded_model.predict(test_data_normalized)\n",
    "predictions_loaded_model[0]"
   ]
  },
  {
   "cell_type": "code",
   "execution_count": 98,
   "metadata": {},
   "outputs": [
    {
     "data": {
      "text/plain": [
       "(<matplotlib.image.AxesImage at 0x1e92d519870>, Text(0.5, 1.0, 'Pullover'))"
      ]
     },
     "execution_count": 98,
     "metadata": {},
     "output_type": "execute_result"
    },
    {
     "data": {
      "image/png": "[encoded data removed]",
      "text/plain": [
       "<Figure size 432x288 with 1 Axes>"
      ]
     },
     "metadata": {
      "needs_background": "light"
     },
     "output_type": "display_data"
    }
   ],
   "source": [
    "# see the prediction of the first image\n",
    "predictions_loaded_model[17].argmax(), class_names[predictions_loaded_model[17].argmax()],\n",
    "plt.imshow(test_data_normalized[predictions_loaded_model[17].argmax()], cmap=plt.cm.binary), plt.title(class_names[predictions_loaded_model[17].argmax()])"
   ]
  },
  {
   "cell_type": "code",
   "execution_count": null,
   "metadata": {},
   "outputs": [],
   "source": []
  }
 ],
 "metadata": {
  "kernelspec": {
   "display_name": "tf_certification_local",
   "language": "python",
   "name": "tf_certification"
  },
  "language_info": {
   "codemirror_mode": {
    "name": "ipython",
    "version": 3
   },
   "file_extension": ".py",
   "mimetype": "text/x-python",
   "name": "python",
   "nbconvert_exporter": "python",
   "pygments_lexer": "ipython3",
   "version": "3.10.3"
  },
  "orig_nbformat": 4,
  "vscode": {
   "interpreter": {
    "hash": "369f2c481f4da34e4445cda3fffd2e751bd1c4d706f27375911949ba6bb62e1c"
   }
  }
 },
 "nbformat": 4,
 "nbformat_minor": 2
}
